{
 "cells": [
  {
   "cell_type": "code",
   "execution_count": 2,
   "metadata": {},
   "outputs": [
    {
     "name": "stdout",
     "output_type": "stream",
     "text": [
      "<class 'str'>\n"
     ]
    }
   ],
   "source": [
    "sentence = \"This is a string.\" \n",
    "print(type(sentence))"
   ]
  },
  {
   "cell_type": "code",
   "execution_count": 3,
   "metadata": {},
   "outputs": [
    {
     "name": "stdout",
     "output_type": "stream",
     "text": [
      "17\n"
     ]
    }
   ],
   "source": [
    "print(len(sentence))"
   ]
  },
  {
   "cell_type": "code",
   "execution_count": 4,
   "metadata": {},
   "outputs": [
    {
     "name": "stdout",
     "output_type": "stream",
     "text": [
      "10\n"
     ]
    }
   ],
   "source": [
    "whitespace = \"          \" \n",
    "print(len(whitespace))"
   ]
  },
  {
   "cell_type": "code",
   "execution_count": 5,
   "metadata": {},
   "outputs": [
    {
     "name": "stdout",
     "output_type": "stream",
     "text": [
      "This is a \t cool sentence \n",
      "to play around with!\n"
     ]
    }
   ],
   "source": [
    "special = \"This is a \\t cool sentence \\nto play around with!\"\n",
    "print(special)"
   ]
  },
  {
   "cell_type": "code",
   "execution_count": 6,
   "metadata": {},
   "outputs": [
    {
     "name": "stdout",
     "output_type": "stream",
     "text": [
      "Letter:  T\n",
      "Word:  This\n",
      "Words:  This is\n"
     ]
    }
   ],
   "source": [
    "letter = sentence[0]\n",
    "print(\"Letter: \", letter)\n",
    "\n",
    "word = sentence[0:4]\n",
    "print(\"Word: \", word)\n",
    "\n",
    "words = sentence[0:7]\n",
    "print(\"Words: \", words)"
   ]
  },
  {
   "cell_type": "code",
   "execution_count": 7,
   "metadata": {},
   "outputs": [
    {
     "name": "stdout",
     "output_type": "stream",
     "text": [
      "Space:   \n"
     ]
    }
   ],
   "source": [
    "space = sentence[4]\n",
    "print(\"Space: \", space)"
   ]
  },
  {
   "cell_type": "code",
   "execution_count": 8,
   "metadata": {},
   "outputs": [
    {
     "name": "stdout",
     "output_type": "stream",
     "text": [
      "<class 'int'>\n"
     ]
    }
   ],
   "source": [
    "number = 0 \n",
    "print(type(number))"
   ]
  },
  {
   "cell_type": "code",
   "execution_count": 9,
   "metadata": {},
   "outputs": [
    {
     "name": "stdout",
     "output_type": "stream",
     "text": [
      "50\n"
     ]
    }
   ],
   "source": [
    "x = 10 \n",
    "y = 20 \n",
    "formula = x + y * 2\n",
    "print(formula)"
   ]
  },
  {
   "cell_type": "code",
   "execution_count": null,
   "metadata": {},
   "outputs": [
    {
     "name": "stdout",
     "output_type": "stream",
     "text": [
      "Python might be cool... but refrigerators are cooler!\n"
     ]
    }
   ],
   "source": [
    "part_one = \"Python might be cool... \"\n",
    "part_two = \"but refrigerators are cooler!\"\n",
    "print(part_one + part_two)"
   ]
  },
  {
   "cell_type": "code",
   "execution_count": null,
   "metadata": {},
   "outputs": [
    {
     "name": "stdout",
     "output_type": "stream",
     "text": [
      "<class 'float'>\n"
     ]
    }
   ],
   "source": [
    "decimal = 4.321\n",
    "print(type(decimal))"
   ]
  },
  {
   "cell_type": "code",
   "execution_count": null,
   "metadata": {},
   "outputs": [
    {
     "name": "stdout",
     "output_type": "stream",
     "text": [
      "3.0\n",
      "<class 'float'>\n"
     ]
    }
   ],
   "source": [
    "formula = 1 + 2.0 \n",
    "print(formula)\n",
    "print(type(formula))"
   ]
  },
  {
   "cell_type": "code",
   "execution_count": null,
   "metadata": {},
   "outputs": [
    {
     "name": "stdout",
     "output_type": "stream",
     "text": [
      "1.0\n",
      "2\n"
     ]
    }
   ],
   "source": [
    "x = 1 \n",
    "y = 2.99\n",
    "print(float(x))\n",
    "print(int(y))"
   ]
  },
  {
   "cell_type": "code",
   "execution_count": null,
   "metadata": {},
   "outputs": [
    {
     "name": "stdout",
     "output_type": "stream",
     "text": [
      "False\n"
     ]
    }
   ],
   "source": [
    "test = 1 > 2 \n",
    "print(test)"
   ]
  },
  {
   "cell_type": "code",
   "execution_count": null,
   "metadata": {},
   "outputs": [
    {
     "name": "stdout",
     "output_type": "stream",
     "text": [
      "Yeah, this seems right\n"
     ]
    }
   ],
   "source": [
    "is_greater = 10 > 20    #False: 0\n",
    "is_less = 10 < 20       #True : 1\n",
    "is_same = 10 == 20      #False: 0\n",
    "\n",
    "if is_greater + is_less + is_same >= 2:\n",
    "    print(\"That should not be right!\")\n",
    "else:\n",
    "    print(\"Yeah, this seems right\")"
   ]
  },
  {
   "cell_type": "code",
   "execution_count": null,
   "metadata": {},
   "outputs": [
    {
     "name": "stdout",
     "output_type": "stream",
     "text": [
      "['APOE', 'PTEN', 'TREM2']\n",
      "['a', 1, 2.0, 'CSHL', 0.6666666666666666]\n"
     ]
    }
   ],
   "source": [
    "genes = ['APOE', 'PTEN', 'TREM2']\n",
    "random_stuff = ['a', 1, 2.0, 'CSHL', (2/3)]\n",
    "print(genes)\n",
    "print(random_stuff)"
   ]
  },
  {
   "cell_type": "code",
   "execution_count": null,
   "metadata": {},
   "outputs": [
    {
     "name": "stdout",
     "output_type": "stream",
     "text": [
      "APOE\n",
      "['PTEN', 'TREM2']\n"
     ]
    }
   ],
   "source": [
    "one_gene = genes[0]\n",
    "two_genes = genes[1:3]\n",
    "print(one_gene)\n",
    "print(two_genes)"
   ]
  },
  {
   "cell_type": "code",
   "execution_count": null,
   "metadata": {},
   "outputs": [
    {
     "name": "stdout",
     "output_type": "stream",
     "text": [
      "[0, 1, 2, 3, 4]\n",
      "[2, 3, 4, 5, 6, 7]\n"
     ]
    }
   ],
   "source": [
    "numbers = [0, 1, 2, 3, 4, 5, 6, 7, 8, 9]\n",
    "\n",
    "#Returns numbers in indices\n",
    "#0, 1, 2, 3, 4\n",
    "print(numbers[0:5])\n",
    "\n",
    "#Returns numbers in indices\n",
    "#2, 3, 4, 5, 6, 7\n",
    "print(numbers[2:8])"
   ]
  },
  {
   "cell_type": "code",
   "execution_count": null,
   "metadata": {},
   "outputs": [
    {
     "name": "stdout",
     "output_type": "stream",
     "text": [
      "[0, 2, 4, 6, 8]\n",
      "[2, 6]\n"
     ]
    }
   ],
   "source": [
    "numbers = [0, 1, 2, 3, 4, 5, 6, 7, 8, 9]\n",
    "\n",
    "#Return every 2nd element. \n",
    "print(numbers[0:10:2])\n",
    "\n",
    "#Returns every 4th element from 2 to 8. \n",
    "print(numbers[2:8:4])"
   ]
  },
  {
   "cell_type": "code",
   "execution_count": null,
   "metadata": {},
   "outputs": [
    {
     "name": "stdout",
     "output_type": "stream",
     "text": [
      "[9, 8, 7, 6, 5, 4, 3, 2, 1]\n",
      "[]\n"
     ]
    }
   ],
   "source": [
    "numbers = [0, 1, 2, 3, 4, 5, 6, 7, 8, 9]\n",
    "\n",
    "#Returns every item from 10 back to zero.\n",
    "print(numbers[10:0:-1])\n",
    "\n",
    "#Doesn't do anything. \n",
    "print(numbers[0:10:-1])"
   ]
  },
  {
   "cell_type": "code",
   "execution_count": null,
   "metadata": {},
   "outputs": [
    {
     "name": "stdout",
     "output_type": "stream",
     "text": [
      "The best wall is drywall\n",
      "The best wall is brick\n",
      "The best wall is metal\n"
     ]
    }
   ],
   "source": [
    "#Iterate through each item. \n",
    "walls = ['drywall', 'brick', 'metal']\n",
    "for wall in walls: \n",
    "    print(\"The best wall is\", wall)"
   ]
  },
  {
   "cell_type": "code",
   "execution_count": null,
   "metadata": {},
   "outputs": [
    {
     "name": "stdout",
     "output_type": "stream",
     "text": [
      "The best floor is carpet\n",
      "The best floor is hardwood\n",
      "The best floor is concrete\n"
     ]
    }
   ],
   "source": [
    "floors = ['carpet', 'hardwood', 'concrete']\n",
    "\n",
    "i = 0\n",
    "while i < len(floors):\n",
    "    print(\"The best floor is\", floors[i])\n",
    "    i += 1"
   ]
  },
  {
   "cell_type": "code",
   "execution_count": null,
   "metadata": {},
   "outputs": [
    {
     "name": "stdout",
     "output_type": "stream",
     "text": [
      "['drywall', 'brick', 'metal', 'carpet', 'hardwood', 'concrete']\n"
     ]
    }
   ],
   "source": [
    "print(walls + floors)"
   ]
  },
  {
   "cell_type": "code",
   "execution_count": null,
   "metadata": {},
   "outputs": [
    {
     "name": "stdout",
     "output_type": "stream",
     "text": [
      "['drywall', 'brick', 'metal', 'wood']\n"
     ]
    }
   ],
   "source": [
    "walls.append('wood')\n",
    "print(walls)"
   ]
  },
  {
   "cell_type": "code",
   "execution_count": null,
   "metadata": {},
   "outputs": [
    {
     "name": "stdout",
     "output_type": "stream",
     "text": [
      "['drywall', 'brick', 'stucco', 'metal', 'wood']\n"
     ]
    }
   ],
   "source": [
    "walls.insert(2, 'stucco')\n",
    "print(walls)"
   ]
  },
  {
   "cell_type": "code",
   "execution_count": null,
   "metadata": {},
   "outputs": [
    {
     "name": "stdout",
     "output_type": "stream",
     "text": [
      "None\n"
     ]
    }
   ],
   "source": [
    "more_walls = walls.append('bamboo')\n",
    "print(more_walls)"
   ]
  },
  {
   "cell_type": "code",
   "execution_count": null,
   "metadata": {},
   "outputs": [
    {
     "name": "stdout",
     "output_type": "stream",
     "text": [
      "[]\n"
     ]
    }
   ],
   "source": [
    "walls.clear()\n",
    "print(walls)"
   ]
  },
  {
   "cell_type": "code",
   "execution_count": null,
   "metadata": {},
   "outputs": [
    {
     "name": "stdout",
     "output_type": "stream",
     "text": [
      "['carpet', 'hardwood']\n",
      "concrete\n"
     ]
    }
   ],
   "source": [
    "popped = floors.pop(2)\n",
    "print(floors)\n",
    "print(popped)"
   ]
  },
  {
   "cell_type": "code",
   "execution_count": null,
   "metadata": {},
   "outputs": [
    {
     "name": "stdout",
     "output_type": "stream",
     "text": [
      "['carpet']\n"
     ]
    }
   ],
   "source": [
    "del floors[1]\n",
    "print(floors)"
   ]
  },
  {
   "cell_type": "code",
   "execution_count": null,
   "metadata": {},
   "outputs": [
    {
     "name": "stdout",
     "output_type": "stream",
     "text": [
      "[]\n"
     ]
    }
   ],
   "source": [
    "floors.remove('carpet')\n",
    "print(floors)"
   ]
  },
  {
   "cell_type": "code",
   "execution_count": null,
   "metadata": {},
   "outputs": [
    {
     "name": "stdout",
     "output_type": "stream",
     "text": [
      "['racecar', 'basketball', 'legos', 'stuffed_animal', 'doll']\n"
     ]
    }
   ],
   "source": [
    "toys = ['racecar', 'basketball', 'legos', 'durian', 'doll']\n",
    "\n",
    "#A durian is not a toy, so let's fix that. \n",
    "toys[3] = 'stuffed_animal' \n",
    "\n",
    "print(toys)"
   ]
  },
  {
   "cell_type": "code",
   "execution_count": null,
   "metadata": {},
   "outputs": [
    {
     "name": "stdout",
     "output_type": "stream",
     "text": [
      "['I', ' ', 's', 'u', 'r', 'e', ' ', 'h', 'o', 'p', 'e', ' ', 't', 'h', 'i', 's', ' ', 'd', 'o', 'e', 's', 'n', \"'\", 't', ' ', 'g', 'e', 't', ' ', 't', 'u', 'r', 'n', 'e', 'd', ' ', 'i', 'n', 't', 'o', ' ', 'a', ' ', 'l', 'i', 's', 't', '!']\n",
      "Fourth character: u\n"
     ]
    }
   ],
   "source": [
    "sentence = \"I sure hope this doesn't get turned into a list!\"\n",
    "sentence = list(sentence)\n",
    "print(sentence)\n",
    "\n",
    "#Let's get the fourth character. \n",
    "print(\"Fourth character:\", sentence[3])"
   ]
  },
  {
   "cell_type": "code",
   "execution_count": null,
   "metadata": {},
   "outputs": [
    {
     "name": "stdout",
     "output_type": "stream",
     "text": [
      "ID,Earnings,Averaged_Earnings,Employees,Total_Salary\n",
      "['ID', 'Earnings', 'Averaged_Earnings', 'Employees', 'Total_Salary']\n",
      "\n",
      "ID\tEarnings\tAveraged_Earnings\tEmployees\tTotal_Salary\n",
      "['ID', 'Earnings', 'Averaged_Earnings', 'Employees', 'Total_Salary']\n"
     ]
    }
   ],
   "source": [
    "comma_delimed = \"ID,Earnings,Averaged_Earnings,Employees,Total_Salary\" \n",
    "comma_split = comma_delimed.split(\",\")\n",
    "print(comma_delimed)\n",
    "print(comma_split)\n",
    "\n",
    "print()\n",
    "\n",
    "tab_delimed = \"ID\\tEarnings\\tAveraged_Earnings\\tEmployees\\tTotal_Salary\" \n",
    "tab_split = tab_delimed.split(\"\\t\")\n",
    "print(tab_delimed)\n",
    "print(tab_split)"
   ]
  },
  {
   "cell_type": "code",
   "execution_count": null,
   "metadata": {},
   "outputs": [
    {
     "name": "stdout",
     "output_type": "stream",
     "text": [
      "{'BRCA1', 'P53', 'PTEN', 'KCNQ2', 'PSEN1', 'APOE'}\n"
     ]
    }
   ],
   "source": [
    "#Note that the output does not retain the same order, \n",
    "#and that the duplicate KCNQ2 is removed. \n",
    "genes = {'APOE', 'PTEN', 'P53', 'BRCA1', 'PSEN1', 'KCNQ2', 'KCNQ2'}\n",
    "print(genes)"
   ]
  },
  {
   "cell_type": "code",
   "execution_count": null,
   "metadata": {},
   "outputs": [
    {
     "name": "stdout",
     "output_type": "stream",
     "text": [
      "{'BRCA1', 'P53', 'ABCA7', 'PTEN', 'PSEN1', 'APOE'}\n"
     ]
    }
   ],
   "source": [
    "genes.add('ABCA7')\n",
    "genes.remove('KCNQ2')\n",
    "print(genes)"
   ]
  },
  {
   "cell_type": "code",
   "execution_count": null,
   "metadata": {},
   "outputs": [],
   "source": [
    "alzheimer = {'APOE', 'TREM2', 'PSEN2', 'APP', 'PSEN1', 'CD33', 'ABCA7'}"
   ]
  },
  {
   "cell_type": "code",
   "execution_count": null,
   "metadata": {},
   "outputs": [
    {
     "name": "stdout",
     "output_type": "stream",
     "text": [
      "{'BRCA1', 'P53', 'PSEN2', 'ABCA7', 'PTEN', 'CD33', 'PSEN1', 'APP', 'APOE', 'TREM2'}\n"
     ]
    }
   ],
   "source": [
    "combined = genes.union(alzheimer)\n",
    "print(combined)"
   ]
  },
  {
   "cell_type": "code",
   "execution_count": null,
   "metadata": {},
   "outputs": [
    {
     "name": "stdout",
     "output_type": "stream",
     "text": [
      "{'PSEN1', 'ABCA7', 'APOE'}\n"
     ]
    }
   ],
   "source": [
    "intersect = genes.intersection(alzheimer)\n",
    "print(intersect)"
   ]
  },
  {
   "cell_type": "code",
   "execution_count": null,
   "metadata": {},
   "outputs": [
    {
     "name": "stdout",
     "output_type": "stream",
     "text": [
      "{'BRCA1', 'P53', 'PTEN'}\n"
     ]
    }
   ],
   "source": [
    "diff = genes.difference(alzheimer)\n",
    "print(diff)"
   ]
  },
  {
   "cell_type": "code",
   "execution_count": null,
   "metadata": {},
   "outputs": [
    {
     "name": "stdout",
     "output_type": "stream",
     "text": [
      "{0, 1, 2, 3, 4, 5}\n"
     ]
    }
   ],
   "source": [
    "numbers = [0, 1, 3, 4, 3, 2, 5, 3, 1, 3, 2, 5]\n",
    "numbers = set(numbers)\n",
    "print(numbers)"
   ]
  },
  {
   "cell_type": "code",
   "execution_count": null,
   "metadata": {},
   "outputs": [
    {
     "name": "stdout",
     "output_type": "stream",
     "text": [
      "Good fruits: ('grapes', 'pears', 'mango', 'pineapple')\n",
      "grapes\n",
      "pears\n",
      "mango\n",
      "pineapple\n",
      "The best fruit: mango\n"
     ]
    }
   ],
   "source": [
    "fruits = ('grapes', 'pears', 'mango', 'pineapple')\n",
    "print(\"Good fruits:\", fruits)\n",
    "\n",
    "#Can iterate through tuples. \n",
    "for fruit in fruits: \n",
    "    print(fruit)\n",
    "\n",
    "#Can subset tuples. \n",
    "print(\"The best fruit:\", fruits[2])"
   ]
  },
  {
   "cell_type": "code",
   "execution_count": null,
   "metadata": {},
   "outputs": [
    {
     "name": "stdout",
     "output_type": "stream",
     "text": [
      "['tomato', 'garlic', 'bay leaf', 'water']\n"
     ]
    }
   ],
   "source": [
    "#Works, but kind of hard to read. \n",
    "construction = {'walls': ['brick', 'wood'], 'floors': ['carpet', 'concrete']}\n",
    "\n",
    "#We can create dictionaries over multiple lines, as long\n",
    "#as we start with { and end with }. \n",
    "recipe = {\n",
    "    'name': 'Pasta sauce',\n",
    "    'ingredients': ['tomato', 'garlic', 'bay leaf', 'water'],\n",
    "    'servings': 4\n",
    "}\n",
    "\n",
    "#We can access dictionary values using a key. \n",
    "print(recipe['ingredients'])"
   ]
  },
  {
   "cell_type": "code",
   "execution_count": null,
   "metadata": {},
   "outputs": [
    {
     "name": "stdout",
     "output_type": "stream",
     "text": [
      "{'NY': ['yonkers', 'nyc', 'albany', 'buffalo'], 'UT': ['slc', 'park city', 'ogden', 'st. george'], 'ME': ['portland', 'augusta', 'bar harbor', 'bangor']}\n"
     ]
    }
   ],
   "source": [
    "cities = {\n",
    "    'NY': ['yonkers', 'nyc', 'albany', 'buffalo'], \n",
    "    'UT': ['slc', 'park city', 'ogden', 'st. george']\n",
    "}\n",
    "\n",
    "#Let's add cities in maine. \n",
    "cities['ME'] = ['portland', 'augusta', 'bar harbor', 'bangor']\n",
    "print(cities)"
   ]
  },
  {
   "cell_type": "code",
   "execution_count": null,
   "metadata": {},
   "outputs": [
    {
     "name": "stdout",
     "output_type": "stream",
     "text": [
      "{'Jack': 180, 'Jill': 175, 'Jessica': 190, 'Jeff': 150, 'Jerry': 140, 'Jon': 192}\n"
     ]
    }
   ],
   "source": [
    "heights = {\n",
    "    'Jack': 180,\n",
    "    'Jill': 175,\n",
    "    'Jessica': 190,\n",
    "    'Jeff': 150\n",
    "}\n",
    "\n",
    "#Add many heights using a list of tuples. \n",
    "heights.update([('Jerry', 140), ('Jon', 192)])\n",
    "\n",
    "print(heights)"
   ]
  },
  {
   "cell_type": "code",
   "execution_count": null,
   "metadata": {},
   "outputs": [
    {
     "name": "stdout",
     "output_type": "stream",
     "text": [
      "{'Jack': 200, 'Jill': 175, 'Jessica': 190, 'Jeff': 150, 'Jerry': 140, 'Jon': 192}\n"
     ]
    }
   ],
   "source": [
    "heights['Jack'] = 200\n",
    "print(heights)"
   ]
  },
  {
   "cell_type": "code",
   "execution_count": null,
   "metadata": {},
   "outputs": [
    {
     "name": "stdout",
     "output_type": "stream",
     "text": [
      "Del: {'Jill': 175, 'Jessica': 190, 'Jeff': 150, 'Jerry': 140, 'Jon': 192}\n",
      "After pop: {'Jill': 175, 'Jeff': 150, 'Jerry': 140, 'Jon': 192}\n",
      "Popped: 190\n",
      "Cleared: {}\n"
     ]
    }
   ],
   "source": [
    "#Use the 'del' method. \n",
    "del heights['Jack'] \n",
    "print(\"Del:\", heights)\n",
    "\n",
    "#Use the 'pop' method. \n",
    "popped = heights.pop('Jessica')\n",
    "print('After pop:', heights)\n",
    "print('Popped:', popped)\n",
    "\n",
    "#Use the 'clear' method. \n",
    "heights.clear()\n",
    "print('Cleared:', heights)"
   ]
  },
  {
   "cell_type": "code",
   "execution_count": null,
   "metadata": {},
   "outputs": [
    {
     "name": "stdout",
     "output_type": "stream",
     "text": [
      "Keys: dict_keys(['Horse', 'Pony', 'Shire'])\n",
      "Values: dict_values([1, 0.5, 2])\n"
     ]
    }
   ],
   "source": [
    "horsepower = {\n",
    "    'Horse': 1,\n",
    "    'Pony': 0.5,\n",
    "    'Shire': 2\n",
    "}\n",
    "\n",
    "print(\"Keys:\", horsepower.keys())\n",
    "print(\"Values:\", horsepower.values())"
   ]
  },
  {
   "cell_type": "code",
   "execution_count": null,
   "metadata": {},
   "outputs": [
    {
     "name": "stdout",
     "output_type": "stream",
     "text": [
      "Key: Horse \tValue: 1\n",
      "Key: Pony \tValue: 0.5\n",
      "Key: Shire \tValue: 2\n"
     ]
    }
   ],
   "source": [
    "for key in horsepower.keys():\n",
    "    print(\"Key:\", key, \"\\tValue:\", horsepower[key])"
   ]
  },
  {
   "cell_type": "code",
   "execution_count": null,
   "metadata": {},
   "outputs": [
    {
     "name": "stdout",
     "output_type": "stream",
     "text": [
      "<_io.TextIOWrapper name='data/grocery_list.txt' mode='r' encoding='UTF-8'>\n"
     ]
    }
   ],
   "source": [
    "groc_file = open(\"data/grocery_list.txt\", mode = \"r\")\n",
    "print(groc_file)"
   ]
  },
  {
   "cell_type": "code",
   "execution_count": null,
   "metadata": {},
   "outputs": [
    {
     "name": "stdout",
     "output_type": "stream",
     "text": [
      "eggs\n",
      "milk\n",
      "cucumbers\n",
      "mushrooms\n",
      "tofu\n",
      "steak\n",
      "apricots\n",
      "avocado\n",
      "coffee grounds\n"
     ]
    }
   ],
   "source": [
    "grocery = groc_file.read()\n",
    "print(grocery)"
   ]
  },
  {
   "cell_type": "code",
   "execution_count": null,
   "metadata": {},
   "outputs": [],
   "source": [
    "groc_file.close()"
   ]
  },
  {
   "cell_type": "code",
   "execution_count": null,
   "metadata": {},
   "outputs": [
    {
     "name": "stdout",
     "output_type": "stream",
     "text": [
      "['eggs\\n', 'milk\\n', 'cucumbers\\n', 'mushrooms\\n', 'tofu\\n', 'steak\\n', 'apricots\\n', 'avocado\\n', 'coffee grounds']\n"
     ]
    }
   ],
   "source": [
    "groc_file = open(\"data/grocery_list.txt\", mode = \"r\")\n",
    "grocery = groc_file.readlines()\n",
    "groc_file.close()\n",
    "print(grocery)"
   ]
  },
  {
   "cell_type": "code",
   "execution_count": null,
   "metadata": {},
   "outputs": [
    {
     "name": "stdout",
     "output_type": "stream",
     "text": [
      "eggs\n",
      "\n"
     ]
    }
   ],
   "source": [
    "groc_file = open(\"data/grocery_list.txt\", mode = \"r\")\n",
    "one_line = groc_file.readline()\n",
    "groc_file.close()\n",
    "\n",
    "print(one_line)"
   ]
  },
  {
   "cell_type": "code",
   "execution_count": null,
   "metadata": {},
   "outputs": [
    {
     "name": "stdout",
     "output_type": "stream",
     "text": [
      "eggs\n",
      "\n",
      "milk\n",
      "\n",
      "cucumbers\n",
      "\n",
      "mushrooms\n",
      "\n",
      "tofu\n",
      "\n",
      "steak\n",
      "\n",
      "apricots\n",
      "\n",
      "avocado\n",
      "\n",
      "coffee grounds\n"
     ]
    }
   ],
   "source": [
    "groc_file = open(\"data/grocery_list.txt\", mode = \"r\")\n",
    "\n",
    "for line in groc_file:\n",
    "    print(line)\n",
    "\n",
    "groc_file.close()"
   ]
  },
  {
   "cell_type": "code",
   "execution_count": null,
   "metadata": {},
   "outputs": [
    {
     "name": "stdout",
     "output_type": "stream",
     "text": [
      "lstrip: Pythonxxxxxxxx\n",
      "rstrip: xxxxxxxxPython\n",
      "strip: Python\n"
     ]
    }
   ],
   "source": [
    "too_much_x = \"xxxxxxxxPythonxxxxxxxx\" \n",
    "\n",
    "#Remove spaces from beginning. \n",
    "print(\"lstrip:\", too_much_x.lstrip(\"x\"))\n",
    "\n",
    "#Remove spaces from end.\n",
    "print(\"rstrip:\", too_much_x.rstrip(\"x\"))\n",
    "\n",
    "#Both\n",
    "print(\"strip:\", too_much_x.strip(\"x\"))"
   ]
  },
  {
   "cell_type": "code",
   "execution_count": null,
   "metadata": {},
   "outputs": [
    {
     "name": "stdout",
     "output_type": "stream",
     "text": [
      "eggs\n",
      "milk\n",
      "cucumbers\n",
      "mushrooms\n",
      "tofu\n",
      "steak\n",
      "apricots\n",
      "avocado\n",
      "coffee grounds\n"
     ]
    }
   ],
   "source": [
    "groc_file = open(\"data/grocery_list.txt\", mode = \"r\")\n",
    "\n",
    "for line in groc_file:\n",
    "    line = line.strip('\\n')\n",
    "    print(line)\n",
    "\n",
    "groc_file.close()"
   ]
  },
  {
   "cell_type": "code",
   "execution_count": null,
   "metadata": {},
   "outputs": [
    {
     "name": "stdout",
     "output_type": "stream",
     "text": [
      "EGGS\n",
      "MILK\n",
      "CUCUMBERS\n",
      "MUSHROOMS\n",
      "TOFU\n",
      "STEAK\n",
      "APRICOTS\n",
      "AVOCADO\n",
      "COFFEE GROUNDS\n"
     ]
    }
   ],
   "source": [
    "grocery = open(\"data/grocery_list.txt\", \"r\")\n",
    "\n",
    "#If a file does not yet exist, \"open\" will create it.\n",
    "upper_grocery = open(\"data/GROCERY_LIST.txt\", \"w\")\n",
    "\n",
    "for line in grocery:\n",
    "    #Get the line, uppercase, and write. \n",
    "    line = line.upper()\n",
    "\n",
    "    #Only strip in print statement for neatness.\n",
    "    print(line.strip(\"\\n\"))\n",
    "\n",
    "    upper_grocery.write(line)\n",
    "\n",
    "grocery.close()\n",
    "upper_grocery.close()"
   ]
  },
  {
   "cell_type": "code",
   "execution_count": null,
   "metadata": {},
   "outputs": [
    {
     "name": "stdout",
     "output_type": "stream",
     "text": [
      "EGGS\n",
      "MILK\n",
      "CUCUMBERS\n",
      "MUSHROOMS\n",
      "TOFU\n",
      "STEAK\n",
      "APRICOTS\n",
      "AVOCADO\n",
      "COFFEE GROUNDS\n"
     ]
    }
   ],
   "source": [
    "upper_grocery = open(\"data/GROCERY_LIST.txt\", \"r\")\n",
    "print(upper_grocery.read())\n",
    "upper_grocery.close()"
   ]
  },
  {
   "cell_type": "code",
   "execution_count": null,
   "metadata": {},
   "outputs": [
    {
     "name": "stdout",
     "output_type": "stream",
     "text": [
      "EGGS\n",
      "MILK\n",
      "CUCUMBERS\n",
      "MUSHROOMS\n",
      "TOFU\n",
      "STEAK\n",
      "APRICOTS\n",
      "AVOCADO\n",
      "COFFEE GROUNDSeggs\n",
      "milk\n",
      "cucumbers\n",
      "mushrooms\n",
      "tofu\n",
      "steak\n",
      "apricots\n",
      "avocado\n",
      "coffee grounds\n"
     ]
    }
   ],
   "source": [
    "grocery = open(\"data/grocery_list.txt\", \"r\")\n",
    "upper_grocery = open(\"data/GROCERY_LIST.txt\", \"a\")\n",
    "\n",
    "#We'll take the lower-case lines and append\n",
    "#then to our upper case grocery!\n",
    "upper_grocery.write(grocery.read())\n",
    "\n",
    "grocery.close()\n",
    "upper_grocery.close()\n",
    "\n",
    "#Now open the file in read mode to check our output. \n",
    "combined_grocery = open(\"data/GROCERY_LIST.txt\", \"r\")\n",
    "print(combined_grocery.read())\n",
    "combined_grocery.close()"
   ]
  },
  {
   "cell_type": "code",
   "execution_count": null,
   "metadata": {},
   "outputs": [
    {
     "name": "stdout",
     "output_type": "stream",
     "text": [
      "18\n",
      "3\n",
      "17\n"
     ]
    }
   ],
   "source": [
    "x = 2\n",
    "y = 3\n",
    "z = 4 \n",
    "\n",
    "x = (x**2) / 3\n",
    "x = str(x)\n",
    "len_x = len(x)\n",
    "\n",
    "y = (y**2) / 3\n",
    "y = str(y)\n",
    "len_y = len(y)\n",
    "\n",
    "z = (z**2) / 3\n",
    "z = str(z)\n",
    "len_z = len(z)\n",
    "\n",
    "print(len_x)\n",
    "print(len_y)\n",
    "print(len_z)\n"
   ]
  },
  {
   "cell_type": "code",
   "execution_count": null,
   "metadata": {},
   "outputs": [],
   "source": [
    "def function_name(arguments):\n",
    "    ...\n",
    "    do something \n",
    "    ...\n",
    "    return(value)"
   ]
  },
  {
   "cell_type": "code",
   "execution_count": null,
   "metadata": {},
   "outputs": [
    {
     "name": "stdout",
     "output_type": "stream",
     "text": [
      "X and Y: 0.0004\n",
      "Z and Y: 0.0025\n"
     ]
    }
   ],
   "source": [
    "#This function takes two values and outputs\n",
    "#the inverse of the square of the product.\n",
    "\n",
    "def myFunc(num1, num2):\n",
    "    product = num1 * num2\n",
    "    prod_squared = product ** 2\n",
    "    inversed = 1 / prod_squared \n",
    "    return(inversed)\n",
    "\n",
    "\n",
    "x = 5\n",
    "y = 10\n",
    "z = 2\n",
    "\n",
    "print(\"X and Y:\", myFunc(x, y))\n",
    "print(\"Z and Y:\", myFunc(z, y))"
   ]
  },
  {
   "cell_type": "code",
   "execution_count": null,
   "metadata": {},
   "outputs": [
    {
     "name": "stdout",
     "output_type": "stream",
     "text": [
      "First is: 10\n",
      "Second is: 20\n"
     ]
    },
    {
     "data": {
      "text/plain": [
       "200"
      ]
     },
     "execution_count": 61,
     "metadata": {},
     "output_type": "execute_result"
    }
   ],
   "source": [
    "def multiply(first, second):\n",
    "    print(\"First is:\", first)\n",
    "    print(\"Second is:\", second)\n",
    "    return(first * second)\n",
    "\n",
    "x = 10\n",
    "y = 20\n",
    "multiply(second = 20, first = 10)"
   ]
  },
  {
   "cell_type": "code",
   "execution_count": null,
   "metadata": {},
   "outputs": [
    {
     "name": "stdout",
     "output_type": "stream",
     "text": [
      "['apple', 'orange', 1]\n"
     ]
    }
   ],
   "source": [
    "def make_list(x, y, z):\n",
    "    new_list = [x, y, z]\n",
    "    return(new_list)\n",
    "\n",
    "print(make_list('apple', 'orange', 1))"
   ]
  },
  {
   "cell_type": "code",
   "execution_count": null,
   "metadata": {},
   "outputs": [
    {
     "name": "stdout",
     "output_type": "stream",
     "text": [
      "100\n",
      "400\n"
     ]
    }
   ],
   "source": [
    "def find_squares(num1, num2):\n",
    "    num1 = num1 ** 2\n",
    "    num2 = num2 ** 2\n",
    "    return(num1, num2)\n",
    "\n",
    "x, y = find_squares(10, 20)\n",
    "print(x)\n",
    "print(y)"
   ]
  },
  {
   "cell_type": "code",
   "execution_count": null,
   "metadata": {},
   "outputs": [
    {
     "name": "stdout",
     "output_type": "stream",
     "text": [
      "X: 3\n",
      "Y: 11\n"
     ]
    }
   ],
   "source": [
    "##### Import statements\n",
    "import math\n",
    "\n",
    "##### Function definitions\n",
    "def getFloor(number):\n",
    "    return(math.floor(number))\n",
    "\n",
    "def getCeiling(number):\n",
    "    return(math.ceil(number))\n",
    "\n",
    "def addRounds(number):\n",
    "    lower = getFloor(number)\n",
    "    upper = getCeiling(number)\n",
    "    return(lower + upper)\n",
    "\n",
    "##### Main code\n",
    "x = 1.1\n",
    "y = 5.4\n",
    "\n",
    "print(\"X:\", addRounds(x))\n",
    "print(\"Y:\", addRounds(y))"
   ]
  },
  {
   "cell_type": "code",
   "execution_count": 10,
   "metadata": {},
   "outputs": [
    {
     "name": "stdout",
     "output_type": "stream",
     "text": [
      "0\n",
      "1\n",
      "4\n",
      "9\n",
      "16\n",
      "25\n",
      "36\n",
      "49\n",
      "64\n",
      "81\n",
      "100\n"
     ]
    }
   ],
   "source": [
    "while some_condition is True:\n",
    "    do something\n",
    "    do another thing\n",
    "    one last thing"
   ]
  },
  {
   "cell_type": "code",
   "execution_count": 3,
   "metadata": {},
   "outputs": [
    {
     "name": "stdout",
     "output_type": "stream",
     "text": [
      "[0, 11, 44, 99, 176, 275]\n"
     ]
    }
   ],
   "source": [
    "num_list = [0, 1, 2, 3, 4, 5]\n",
    "num_tup = (0, 11, 22, 33, 44, 55)\n",
    "\n",
    "result = []\n",
    "\n",
    "#Iterate through num_list and num_tup and multiply. \n",
    "i = 0\n",
    "while i < len(num_list):\n",
    "    result.append(num_list[i] * num_tup[i])\n",
    "    i += 1\n",
    "\n",
    "print(result)"
   ]
  },
  {
   "cell_type": "code",
   "execution_count": 9,
   "metadata": {},
   "outputs": [
    {
     "name": "stdout",
     "output_type": "stream",
     "text": [
      "white\n",
      "rye\n",
      "whole wheat\n",
      "whole wheat\n"
     ]
    }
   ],
   "source": [
    "bread = ['white', 'rye', 'whole wheat']\n",
    "\n",
    "for flavor in bread:\n",
    "    print(flavor)"
   ]
  },
  {
   "cell_type": "code",
   "execution_count": 10,
   "metadata": {},
   "outputs": [
    {
     "name": "stdout",
     "output_type": "stream",
     "text": [
      "rye\n",
      "whole wheat\n",
      "white\n"
     ]
    }
   ],
   "source": [
    "bread = {'white', 'rye', 'whole wheat'}\n",
    "\n",
    "for flavor in bread:\n",
    "    print(flavor)"
   ]
  },
  {
   "cell_type": "code",
   "execution_count": 13,
   "metadata": {},
   "outputs": [
    {
     "name": "stdout",
     "output_type": "stream",
     "text": [
      "{'Jack': 280, 'Jill': 275, 'Jessica': 290, 'Jeff': 250}\n"
     ]
    }
   ],
   "source": [
    "for key in heights:\n",
    "    heights[key] = heights[key] + 100\n",
    "\n",
    "print(heights)"
   ]
  }
 ],
 "metadata": {
  "kernelspec": {
   "display_name": "Python 3.7.5 ('SeqDesign')",
   "language": "python",
   "name": "python3"
  },
  "language_info": {
   "codemirror_mode": {
    "name": "ipython",
    "version": 3
   },
   "file_extension": ".py",
   "mimetype": "text/x-python",
   "name": "python",
   "nbconvert_exporter": "python",
   "pygments_lexer": "ipython3",
   "version": "3.7.5"
  },
  "orig_nbformat": 4,
  "vscode": {
   "interpreter": {
    "hash": "6a966f9b68cfe2512e317df76d722a6809441a4df2a3968711a0387aacb119c9"
   }
  }
 },
 "nbformat": 4,
 "nbformat_minor": 2
}
