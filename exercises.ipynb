{
 "cells": [
  {
   "cell_type": "markdown",
   "metadata": {},
   "source": [
    "## Python Exercises: VCF Example\n",
    "This code provides introductory examples for using genomic data in Python.\n",
    "Make sure that the provided data, 'example.vcf'.\n",
    "\n",
    "For each question, make sure to complete the code segments noted by the `# ???` portions. "
   ]
  },
  {
   "cell_type": "markdown",
   "metadata": {},
   "source": [
    "Question 1: Read all lines of a file to a variable `data_as_list`. Each list element is a row of the file that was read from. "
   ]
  },
  {
   "cell_type": "code",
   "execution_count": null,
   "metadata": {},
   "outputs": [],
   "source": [
    "#Read in a file. \n",
    "data_file = # ???\n",
    "data_as_list = # ???\n",
    "\n",
    "data_file.close()\n",
    "print(data_as_list[0:10])\n"
   ]
  },
  {
   "cell_type": "markdown",
   "metadata": {},
   "source": [
    "Question 2: Each row has elements that are separated by a tab (`\\t`) character. Also, the last character in the list is a newline (`\\n`) character. \n",
    "<br><br>\n",
    "Remove the newline character and split each of these rows into a list of elements.  \n",
    "<br><br>\n",
    "HINT: The result will be a two dimensional list, or a \"list of lists\".\n"
   ]
  },
  {
   "cell_type": "code",
   "execution_count": null,
   "metadata": {},
   "outputs": [],
   "source": [
    "for i in range( # ???):\n",
    "    # ???\n",
    "\n",
    "print(data_as_list[0:10])"
   ]
  },
  {
   "cell_type": "markdown",
   "metadata": {},
   "source": [
    "Question 3: The first row is the column headers, and the rest of the rows are the data for a variant. \n",
    "<br><br>\n",
    "Save the header into a different variable called `header` and remove that row from the rest of the data.\n",
    "<br><br>"
   ]
  },
  {
   "cell_type": "code",
   "execution_count": 61,
   "metadata": {},
   "outputs": [],
   "source": [
    "# ???"
   ]
  },
  {
   "cell_type": "markdown",
   "metadata": {},
   "source": [
    "Question 4:<br>\n",
    "The header columns are as follows: \n",
    "<ul>\n",
    "    <li>CHROM:  The chromosome the variant is on.</li>\n",
    "    <li>POS:    The position the variant is on the chromosome.</li>\n",
    "    <li>REF:    The reference allele (wild-type base) at that position.</li>\n",
    "    <li>ALT:    The alternate allele (mutant base) at that position.</li>\n",
    "    <li>AC:     Allele count. The number of genomes this allele appears in this position in gnomAD.</li>\n",
    "    <li>AF:     Allele frequency. The allele count normalized by the population size.</li>\n",
    "    <li>popmax: The population where this allele is most prevalent.</li>\n",
    "</ul>\n",
    "<br>\n",
    "Each row after the header is the data for these columns for each variant. Visualize the first variant below and interpret the meaning of the row given the header context. \n"
   ]
  },
  {
   "cell_type": "code",
   "execution_count": null,
   "metadata": {},
   "outputs": [],
   "source": [
    "print(header)\n",
    "print(data_as_list[0])\n",
    "\n",
    "\"\"\"\n",
    "Write out your interpretation of the data here. \n",
    "\"\"\""
   ]
  },
  {
   "cell_type": "markdown",
   "metadata": {},
   "source": [
    "Question 5: Currently, the data is in a 2-D list format, which can be used to access data using indices in the format `data[row][column]`. For example, `data[10][2]` returns the reference allele (column 2) of the 10th variant.  \n",
    "<br><br>\n",
    "Another common representation is a dictionary structure. A dictionary structure follows the format `dict[key] = value`, where a `key` can be a string and `value` can be anything; an integer, a string, or even other data structures like lists and dictionaries. \n",
    "<br><br>\n",
    "We can use dictionaries with the same idea as 2-D lists, where each `key` is a column and each `value` is a list of values in that column. \n",
    "<br><br>\n",
    "For this question, create a dictionary (defined using {}) using our header columns as keys and empty lists as placeholder values. \n"
   ]
  },
  {
   "cell_type": "code",
   "execution_count": null,
   "metadata": {},
   "outputs": [],
   "source": [
    "data_as_dict = {}\n",
    "\n",
    "# ???\n",
    "\n",
    "print(data_as_dict)"
   ]
  },
  {
   "cell_type": "markdown",
   "metadata": {},
   "source": [
    "Question 6: Now that we have a dictionary, put the contents of `data_as_list` for each column into each respective dictionary key. "
   ]
  },
  {
   "cell_type": "code",
   "execution_count": 64,
   "metadata": {},
   "outputs": [],
   "source": [
    "for row in data_as_list:\n",
    "    # ???\n",
    "\n",
    "## BONUS: Complete objective with a nested 'for' loop, or \n",
    "## a loop within a loop. \n",
    "# ???\n"
   ]
  },
  {
   "cell_type": "markdown",
   "metadata": {},
   "source": [
    "Both of these formats are good for different purposes. For finding per-variant information, the `data_as_list` format might be preferable, whereas the `data_as_dict` format might be better if you're interested in aggregated information. For the rest of the exercises, we'll use both. "
   ]
  },
  {
   "cell_type": "markdown",
   "metadata": {},
   "source": [
    "**BONUS**: You can make `data_as_list` and `data_as_dict` directly while reading in the data file. Give this a try!"
   ]
  },
  {
   "cell_type": "code",
   "execution_count": 65,
   "metadata": {},
   "outputs": [],
   "source": [
    "#Setup our header and data_as_dict. \n",
    "data_file = open(\"./data/example.vcf\", mode = \"r\")\n",
    "\n",
    "# ???"
   ]
  },
  {
   "cell_type": "markdown",
   "metadata": {},
   "source": [
    "Question 7: Data types are important in Python. When a string is split as was done in Question 2, the elements are all `str` types. For this question, convert POS and AC to `int` and AF to `float` in both `data_as_dict` and `data_as_list`. "
   ]
  },
  {
   "cell_type": "code",
   "execution_count": 66,
   "metadata": {},
   "outputs": [],
   "source": [
    "#Data as list. \n",
    "for row in data_as_list:\n",
    "    # ???\n",
    "\n",
    "#Data as dict. \n",
    "for i in range(0, len(data_as_dict['POS'])):\n",
    "    # ???"
   ]
  },
  {
   "cell_type": "markdown",
   "metadata": {},
   "source": [
    "Now this data can be used for calculations. "
   ]
  },
  {
   "cell_type": "markdown",
   "metadata": {},
   "source": [
    "Question 8: Find the mean allele frequency (AF) for the variants in our data. "
   ]
  },
  {
   "cell_type": "code",
   "execution_count": null,
   "metadata": {},
   "outputs": [],
   "source": [
    "mean_af = # ???\n",
    "\n",
    "print(\"Mean AF: {:.2f}\".format(mean_af))"
   ]
  },
  {
   "cell_type": "markdown",
   "metadata": {},
   "source": [
    "Question 9: Find the median allele count for the variants in our data. \n",
    "<br><br>\n",
    "HINT: The `sorted` function can sort a list. "
   ]
  },
  {
   "cell_type": "code",
   "execution_count": null,
   "metadata": {},
   "outputs": [],
   "source": [
    "median = # ???\n",
    "print(median)"
   ]
  },
  {
   "cell_type": "markdown",
   "metadata": {},
   "source": [
    "Question 10: Extract the entire row that has the most allele count.\n",
    "<br><br>\n",
    "\n",
    "HINT: This can be solved with either `data_as_dict` or `data_as_list`, or even using both! Some might be easier than the other. "
   ]
  },
  {
   "cell_type": "code",
   "execution_count": null,
   "metadata": {},
   "outputs": [],
   "source": [
    "#Placeholder value. Assign the objective row to this variable. \n",
    "max_row = None\n",
    "\n",
    "#Data as list. \n",
    "\n",
    "#???\n",
    "\n",
    "#Data as dict. \n",
    "\n",
    "# ???\n",
    "\n",
    "#Both. \n",
    "\n",
    "# ???\n",
    "\n",
    "print(max_row)"
   ]
  },
  {
   "cell_type": "markdown",
   "metadata": {},
   "source": [
    "**BONUS**: Popular plotting packages in python include Matplotlib.pyplot and Seaborn. Use both to plot the counts of \"popmax\".\n",
    "\n",
    "HINT: Dictionary data structures are great at counting the instances of value appearances. "
   ]
  },
  {
   "cell_type": "code",
   "execution_count": null,
   "metadata": {},
   "outputs": [],
   "source": [
    "import seaborn as sns \n",
    "import matplotlib.pyplot as plt \n",
    "\n",
    "#For matplotlib, need to have counts ready. \n",
    "pop_counts = {}\n",
    "for item in data_as_dict['popmax']:\n",
    "    # ???\n",
    "        \n",
    "plt.bar(pop_counts.keys(), height = pop_counts.values())\n",
    "plt.show()\n",
    "\n",
    "\n",
    "\n",
    "#Seaborn can use \"countplot\" to automate this process. \n",
    "#All it needs is the list to get counts from. \n",
    "sns.countplot(# ???)"
   ]
  },
  {
   "cell_type": "markdown",
   "metadata": {},
   "source": [
    "**BONUS**: Let's turn this into a script! We can "
   ]
  }
 ],
 "metadata": {
  "kernelspec": {
   "display_name": "Python 3.6.8 64-bit",
   "language": "python",
   "name": "python3"
  },
  "language_info": {
   "codemirror_mode": {
    "name": "ipython",
    "version": 3
   },
   "file_extension": ".py",
   "mimetype": "text/x-python",
   "name": "python",
   "nbconvert_exporter": "python",
   "pygments_lexer": "ipython3",
   "version": "3.6.8"
  },
  "orig_nbformat": 4,
  "vscode": {
   "interpreter": {
    "hash": "916dbcbb3f70747c44a77c7bcd40155683ae19c65e1c03b4aa3499c5328201f1"
   }
  }
 },
 "nbformat": 4,
 "nbformat_minor": 2
}
