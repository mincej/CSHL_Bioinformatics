{
 "cells": [
  {
   "cell_type": "markdown",
   "metadata": {},
   "source": [
    "## Python Exercises: Toy VCF Example\n",
    "This code provides introductory examples for using genomic data in Python.\n",
    "Make sure that the provided data is in the './data' directory. \n"
   ]
  },
  {
   "cell_type": "markdown",
   "metadata": {},
   "source": [
    "Question 1: Read the entirety of a file to a variable `data_as_list`. Each list element is a row of the file that was read from. "
   ]
  },
  {
   "cell_type": "code",
   "execution_count": 59,
   "metadata": {},
   "outputs": [
    {
     "name": "stdout",
     "output_type": "stream",
     "text": [
      "['CHROM\\tPOS\\tREF\\tALT\\tAC\\tAF\\tpopmax\\n', 'chr22\\t10511415\\tA\\tT\\t42\\t0.0011961\\tamr\\n', 'chr4\\t10840\\tC\\tT\\t2\\t2.53421e-05\\tsas\\n', 'chr10\\t10617\\tG\\tC\\t748\\t0.0123645\\teas\\n', 'chrY\\t2794450\\tC\\tA\\t1\\t2.97089e-05\\teas\\n', 'chr10\\t10662\\tA\\tG\\t1\\t2.4286e-05\\tnfe\\n', 'chr16\\t10187\\tA\\tT\\t2\\t1.54212e-05\\tamr\\n', 'chr12\\t11154\\tG\\tT\\t1\\t7.77291e-06\\teas\\n', 'chr16\\t10553\\tA\\tT\\t1\\t9.6341e-06\\tafr\\n', 'chr13\\t18172007\\tC\\tA\\t1\\t6.57134e-06\\teas\\n']\n"
     ]
    }
   ],
   "source": [
    "#Read in a file. \n",
    "data_file = open(\"./data/example.vcf\", mode = \"r\")\n",
    "data_as_list = data_file.readlines()\n",
    "\n",
    "data_file.close()\n",
    "print(data_as_list[0:10])\n"
   ]
  },
  {
   "cell_type": "markdown",
   "metadata": {},
   "source": [
    "Question 2: Each row has elements that are separated by a tab (`\\t`) character. Also, the last character in the list is a newline (`\\n`) character. \n",
    "<br><br>\n",
    "Remove the newline character and split each of these rows into a list of elements.  \n",
    "<br><br>\n",
    "HINT: The result will be a two dimensional list, or a \"list of lists\".\n"
   ]
  },
  {
   "cell_type": "code",
   "execution_count": 60,
   "metadata": {},
   "outputs": [
    {
     "name": "stdout",
     "output_type": "stream",
     "text": [
      "[['CHROM', 'POS', 'REF', 'ALT', 'AC', 'AF', 'popmax'], ['chr22', '10511415', 'A', 'T', '42', '0.0011961', 'amr'], ['chr4', '10840', 'C', 'T', '2', '2.53421e-05', 'sas'], ['chr10', '10617', 'G', 'C', '748', '0.0123645', 'eas'], ['chrY', '2794450', 'C', 'A', '1', '2.97089e-05', 'eas'], ['chr10', '10662', 'A', 'G', '1', '2.4286e-05', 'nfe'], ['chr16', '10187', 'A', 'T', '2', '1.54212e-05', 'amr'], ['chr12', '11154', 'G', 'T', '1', '7.77291e-06', 'eas'], ['chr16', '10553', 'A', 'T', '1', '9.6341e-06', 'afr'], ['chr13', '18172007', 'C', 'A', '1', '6.57134e-06', 'eas']]\n"
     ]
    }
   ],
   "source": [
    "for i in range(0, len(data_as_list)):\n",
    "    data_as_list[i] = data_as_list[i].rstrip(\"\\n\").split(\"\\t\")\n",
    "\n",
    "print(data_as_list[0:10])"
   ]
  },
  {
   "cell_type": "markdown",
   "metadata": {},
   "source": [
    "Question 3: The first row is the column headers, and the rest of the rows are the data for a variant. \n",
    "<br><br>\n",
    "Save the header into a different variable called `header` and remove that row from the rest of the data.\n",
    "<br><br>"
   ]
  },
  {
   "cell_type": "code",
   "execution_count": 61,
   "metadata": {},
   "outputs": [],
   "source": [
    "header = data_as_list[0]\n",
    "del data_as_list[0] "
   ]
  },
  {
   "cell_type": "markdown",
   "metadata": {},
   "source": [
    "Question 4:<br>\n",
    "The header columns are as follows: \n",
    "<ul>\n",
    "    <li>CHROM:  The chromosome the variant is on.</li>\n",
    "    <li>POS:    The position the variant is on the chromosome.</li>\n",
    "    <li>REF:    The reference allele (wild-type base) at that position.</li>\n",
    "    <li>ALT:    The alternate allele (mutant bae) at that position.</li>\n",
    "    <li>AC:     Allele count. The number of genomes this allele appears in this position in gnomAD.</li>\n",
    "    <li>AF:     Allele frequency. The allele count normalized by the population size.</li>\n",
    "    <li>popmax: The population where this allele is most prevalent.</li>\n",
    "</ul>\n",
    "<br>\n",
    "Each row after the header is the data for these columns for each variant. Visualize the first variant below and interpret the meaning of the row given the header context. \n"
   ]
  },
  {
   "cell_type": "code",
   "execution_count": 62,
   "metadata": {},
   "outputs": [
    {
     "name": "stdout",
     "output_type": "stream",
     "text": [
      "['CHROM', 'POS', 'REF', 'ALT', 'AC', 'AF', 'popmax']\n",
      "['chr22', '10511415', 'A', 'T', '42', '0.0011961', 'amr']\n"
     ]
    },
    {
     "data": {
      "text/plain": [
       "'\\n\\n\\n\\nInterpretation goes here\\n\\n\\n\\n\\n'"
      ]
     },
     "execution_count": 62,
     "metadata": {},
     "output_type": "execute_result"
    }
   ],
   "source": [
    "print(header)\n",
    "print(data_as_list[0])\n",
    "\n",
    "\"\"\"\n",
    "\n",
    "\n",
    "\n",
    "Interpretation goes here\n",
    "\n",
    "\n",
    "\n",
    "\n",
    "\"\"\""
   ]
  },
  {
   "cell_type": "markdown",
   "metadata": {},
   "source": [
    "Question 5: Currently, the data is in a 2-D list format, which can be used to access data using indices in the format `data[row][column]`. For example, `data[10][2]` returns the reference allele (column 2) of the 10th variant.  \n",
    "<br><br>\n",
    "Another common representation is a dictionary structure. A dictionary structure follows the format `dict[key] = value`, where a `key` can be a string and `value` can be anything; an integer, a string, or even other data structures like lists and dictionaries. \n",
    "<br><br>\n",
    "We can use dictionaries with the same idea as 2-D lists, where each `key` is a column and each `value` is a list of values in that column. \n",
    "<br><br>\n",
    "For this question, create a dictionary (defined using {}) using our header columns as keys and empty lists as placeholder values. \n"
   ]
  },
  {
   "cell_type": "code",
   "execution_count": 63,
   "metadata": {},
   "outputs": [
    {
     "name": "stdout",
     "output_type": "stream",
     "text": [
      "{'CHROM': [], 'POS': [], 'REF': [], 'ALT': [], 'AC': [], 'AF': [], 'popmax': []}\n"
     ]
    }
   ],
   "source": [
    "data_as_dict = {}\n",
    "for col in header: \n",
    "    data_as_dict[col] = []\n",
    "\n",
    "print(data_as_dict)"
   ]
  },
  {
   "cell_type": "markdown",
   "metadata": {},
   "source": [
    "Question 6: Now that we have a dictionary, put the contents of each column into each respective dictionary key. "
   ]
  },
  {
   "cell_type": "code",
   "execution_count": 64,
   "metadata": {},
   "outputs": [],
   "source": [
    "for row in data_as_list:\n",
    "    data_as_dict[\"CHROM\"].append(row[0])\n",
    "    data_as_dict[\"POS\"].append(row[1])\n",
    "    data_as_dict[\"REF\"].append(row[2])\n",
    "    data_as_dict[\"ALT\"].append(row[3])\n",
    "    data_as_dict[\"AC\"].append(row[4])\n",
    "    data_as_dict[\"AF\"].append(row[5])\n",
    "    data_as_dict[\"popmax\"].append(row[6])\n",
    "\n",
    "## BONUS: Do with a nested loop. \n",
    "if False:\n",
    "    for row in data_as_list:\n",
    "        for j in range(0, len(header)):\n",
    "            data_as_dict[header[j]].append(row[j])\n"
   ]
  },
  {
   "cell_type": "markdown",
   "metadata": {},
   "source": [
    "Both of these formats are good for different purposes. For finding per-variant information, the `data_as_list` format might be preferable, whereas the `data_as_dict` format might be better if you're interested in information per column. For the rest of the exercises, we'll use both. "
   ]
  },
  {
   "cell_type": "markdown",
   "metadata": {},
   "source": [
    "**BONUS**: You can make `data_as_list` and `data_as_dict` directly while reading in the data file. Give this a try!"
   ]
  },
  {
   "cell_type": "code",
   "execution_count": 65,
   "metadata": {},
   "outputs": [],
   "source": [
    "#Setup our header and data_as_dict. \n",
    "data_file = open(\"./data/example.vcf\", mode = \"r\")\n",
    "header = data_file.readline().rstrip(\"\\n\").split(\"\\t\")\n",
    "data_as_dict = {}\n",
    "\n",
    "for col in header:\n",
    "    data_as_dict[col] = []\n",
    "\n",
    "#Setup our data_as_list. \n",
    "data_as_list = []\n",
    "\n",
    "#Read in the rest of the data. \n",
    "for line in data_file:\n",
    "    #Get split data for row. \n",
    "    row = line.rstrip(\"\\n\").split(\"\\t\")\n",
    "\n",
    "    #Add this row to the data_as_list. \n",
    "    data_as_list.append(row)\n",
    "\n",
    "    #Add row values to respective columns in data_as_dict. \n",
    "    for j in range(0, len(header)):\n",
    "        data_as_dict[header[j]].append(row[j])\n",
    "\n",
    "data_file.close()"
   ]
  },
  {
   "cell_type": "markdown",
   "metadata": {},
   "source": [
    "Question 7: Data types are important in Python. When a string is split as was done in Question 2, the elements are all `str` types. For this question, convert POS and AC to `int` and AF to `float` in both `data_as_dict` and `data_as_list`. "
   ]
  },
  {
   "cell_type": "code",
   "execution_count": 66,
   "metadata": {},
   "outputs": [],
   "source": [
    "#Data as list. \n",
    "for row in data_as_list:\n",
    "    row[1] = int(row[1])\n",
    "    row[4] = int(row[4])\n",
    "    row[5] = float(row[5])\n",
    "\n",
    "#Data as dict. \n",
    "for i in range(0, len(data_as_dict['POS'])):\n",
    "    data_as_dict['POS'][i] = int(data_as_dict['POS'][i])\n",
    "    data_as_dict['AC'][i] = int(data_as_dict['AC'][i])\n",
    "    data_as_dict['AF'][i] = float(data_as_dict['AF'][i])"
   ]
  },
  {
   "cell_type": "markdown",
   "metadata": {},
   "source": [
    "Now this data can be used for calculations. "
   ]
  },
  {
   "cell_type": "markdown",
   "metadata": {},
   "source": [
    "Question 8: Find the mean allele frequency (AF) for the variants in our data. "
   ]
  },
  {
   "cell_type": "code",
   "execution_count": 67,
   "metadata": {},
   "outputs": [
    {
     "name": "stdout",
     "output_type": "stream",
     "text": [
      "0.00891554321129999\n"
     ]
    }
   ],
   "source": [
    "print(sum(data_as_dict['AF'])/len(data_as_dict['AF']))"
   ]
  },
  {
   "cell_type": "markdown",
   "metadata": {},
   "source": [
    "Question 9: Find the median allele count for the variants in our data. \n",
    "<br><br>\n",
    "HINT: The `sorted` function can sort a list. "
   ]
  },
  {
   "cell_type": "code",
   "execution_count": 69,
   "metadata": {},
   "outputs": [
    {
     "name": "stdout",
     "output_type": "stream",
     "text": [
      "2\n"
     ]
    }
   ],
   "source": [
    "ac_sort = sorted(data_as_dict['AC'])\n",
    "print(ac_sort[int(len(ac_sort)/2)])"
   ]
  },
  {
   "cell_type": "markdown",
   "metadata": {},
   "source": [
    "Question 10: Extract the entire row that has the most allele count.\n",
    "<br><br>\n",
    "\n",
    "HINT: This can be solved with either `data_as_dict` or `data_as_list`, or even using both! Some might be easier than the other. "
   ]
  },
  {
   "cell_type": "code",
   "execution_count": 71,
   "metadata": {},
   "outputs": [
    {
     "name": "stdout",
     "output_type": "stream",
     "text": [
      "['chr3', 11919, 'C', 'A', 115034, 0.76396, 'nfe']\n"
     ]
    }
   ],
   "source": [
    "#Data as list. \n",
    "max_val = 0\n",
    "max_row = []\n",
    "for row in data_as_list: \n",
    "    if row[4] > max_val:\n",
    "        max_val = row[4] \n",
    "        max_row = row \n",
    "\n",
    "#Data as dict. \n",
    "max_val = max(data_as_dict['AC'])\n",
    "max_row = []\n",
    "i = 0\n",
    "while i < len(data_as_dict['AC']) and len(max_row) == 0:\n",
    "    if data_as_dict['AC'][i] == max_val:\n",
    "        for col in data_as_dict.keys():\n",
    "            max_row.append(data_as_dict[col][i])\n",
    "    i += 1\n",
    "\n",
    "#Both. \n",
    "max_val = max(data_as_dict['AC'])\n",
    "max_row = []\n",
    "i = 0\n",
    "while i < len(data_as_list) and len(max_row) == 0:\n",
    "    if data_as_list[i][4] == max_val:\n",
    "        max_row = data_as_list[i]\n",
    "    i += 1\n",
    "\n",
    "print(max_row)"
   ]
  },
  {
   "cell_type": "markdown",
   "metadata": {},
   "source": [
    "Question 11: Popular plotting packages in python include Matplotlib.pyplot and Seaborn. Use both to plot the counts of \"popmax\". "
   ]
  },
  {
   "cell_type": "code",
   "execution_count": 76,
   "metadata": {},
   "outputs": [
    {
     "data": {
      "image/png": "[encoded data removed]",
      "text/plain": [
       "<Figure size 432x288 with 1 Axes>"
      ]
     },
     "metadata": {
      "needs_background": "light"
     },
     "output_type": "display_data"
    },
    {
     "name": "stderr",
     "output_type": "stream",
     "text": [
      "/uufs/chpc.utah.edu/common/HIPAA/u1321706/software/pkg/miniconda3/envs/SeqDesign/lib/python3.7/site-packages/seaborn/_decorators.py:43: FutureWarning: Pass the following variable as a keyword arg: x. From version 0.12, the only valid positional argument will be `data`, and passing other arguments without an explicit keyword will result in an error or misinterpretation.\n",
      "  FutureWarning\n"
     ]
    },
    {
     "data": {
      "text/plain": [
       "<AxesSubplot:ylabel='count'>"
      ]
     },
     "execution_count": 76,
     "metadata": {},
     "output_type": "execute_result"
    },
    {
     "data": {
      "image/png": "[encoded data removed]",
      "text/plain": [
       "<Figure size 432x288 with 1 Axes>"
      ]
     },
     "metadata": {
      "needs_background": "light"
     },
     "output_type": "display_data"
    }
   ],
   "source": [
    "import seaborn as sns \n",
    "import matplotlib.pyplot as plt \n",
    "\n",
    "#For matplotlib, need to have counts ready. \n",
    "pop_counts = {}\n",
    "for item in data_as_dict['popmax']:\n",
    "    if item in pop_counts.keys():\n",
    "        pop_counts[item] += 1 \n",
    "    else:\n",
    "        pop_counts[item] = 0\n",
    "        \n",
    "plt.bar(pop_counts.keys(), height = pop_counts.values())\n",
    "plt.show()\n",
    "\n",
    "#Seaborn can use \"countplot\" to automate this process. \n",
    "sns.countplot(data_as_dict['popmax'])"
   ]
  }
 ],
 "metadata": {
  "kernelspec": {
   "display_name": "Python 3.7.5 ('SeqDesign')",
   "language": "python",
   "name": "python3"
  },
  "language_info": {
   "codemirror_mode": {
    "name": "ipython",
    "version": 3
   },
   "file_extension": ".py",
   "mimetype": "text/x-python",
   "name": "python",
   "nbconvert_exporter": "python",
   "pygments_lexer": "ipython3",
   "version": "3.7.5"
  },
  "orig_nbformat": 4,
  "vscode": {
   "interpreter": {
    "hash": "6a966f9b68cfe2512e317df76d722a6809441a4df2a3968711a0387aacb119c9"
   }
  }
 },
 "nbformat": 4,
 "nbformat_minor": 2
}
